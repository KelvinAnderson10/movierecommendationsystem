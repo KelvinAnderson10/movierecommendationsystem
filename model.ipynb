{
 "cells": [
  {
   "cell_type": "markdown",
   "metadata": {},
   "source": [
    "# Movie Recommendation System Based On Content"
   ]
  },
  {
   "cell_type": "markdown",
   "metadata": {},
   "source": [
    "Anggota Kelompok:\n",
    "2201748340 - Kelvin Anderson\n",
    "2201828455 - Muhammad Garin Anzahabi\n",
    "2201780663 - David Christian\n",
    "2201781793 - Alexander Djohan\n",
    "2201733875 - Brainli"
   ]
  },
  {
   "cell_type": "code",
   "execution_count": 2,
   "metadata": {},
   "outputs": [],
   "source": [
    "# Import library yang di perlukan untuk membangun model\n",
    "import pandas as pd\n",
    "from sklearn.feature_extraction.text import TfidfVectorizer\n",
    "from sklearn.metrics.pairwise import linear_kernel\n",
    "\n",
    "# Import dataset yang dibutuhkan, dataset yang digunakan berasal dari https://www.kaggle.com/rounakbanik/the-movies-dataset\n",
    "# Dataset ini mengandung sebanyak 45.000 Movies\n",
    "movie_data = pd.read_csv('C:/Semester 5/Project/IR/movies_metadata.csv', low_memory=False)\n",
    "\n",
    "# Dikarenakan datasetnya ada 45.000 Movies, kita gunakan 20.000 movies pertama saja untuk efisiensi model\n",
    "movie_data = movie_data.head(20000)"
   ]
  },
  {
   "cell_type": "code",
   "execution_count": 3,
   "metadata": {},
   "outputs": [],
   "source": [
    "# Tahap Pre- processing\n",
    "\n",
    "# Objek dari TfidfVectorizer menghapus semua stop words english seperti \"the\", \"a\" dan lain- lain\n",
    "tfidf_vector = TfidfVectorizer(stop_words='english')\n",
    "\n",
    "# Replace semua value yang kosong atau NULL dengan string kosong yaitu \"\" agar tidak terjadi error saat proses training\n",
    "movie_data['overview'] = movie_data['overview'].fillna('')"
   ]
  },
  {
   "cell_type": "code",
   "execution_count": 4,
   "metadata": {},
   "outputs": [],
   "source": [
    "# Membuat model \n",
    "\n",
    "# Vektorisasi matriks Tf- Idf dengan proses fitting dan transforming terhadap data\n",
    "# Vektorisasi kolum \"Overview\" yang berisi deskripsi dari movie yang berguna untuk mencari movie dengan\n",
    "# content yang mirip dengan input\n",
    "tfidf_matrix = tfidf_vector.fit_transform(movie_data['overview'])\n",
    "\n",
    "# Membangun model untuk menghitung similaritas dari movie yang di input nanti, dengan menggunakan similarity matriks untuk\n",
    "# menghitung dot product dari matrix TF- IDF\n",
    "sim_matrix = linear_kernel(tfidf_matrix, tfidf_matrix)"
   ]
  },
  {
   "cell_type": "code",
   "execution_count": 5,
   "metadata": {},
   "outputs": [],
   "source": [
    "# Untuk menghindari judul sama yang duplikat atau berjumlah lebih dari 1, kita akan menggunakan function \"drop_duplicates\"\n",
    "indices = pd.Series(movie_data.index, index=movie_data['title']).drop_duplicates()"
   ]
  },
  {
   "cell_type": "code",
   "execution_count": 6,
   "metadata": {},
   "outputs": [],
   "source": [
    "# membuat function yang menampung model yang telah dibuat untuk return output yaitu 10 Movies dengan similarity terbesar\n",
    "def movie_recommender(title, sim_scores=sim_matrix):\n",
    "    print(\"Similar Movie Recommendation With\", title)\n",
    "    print(\"\\n\")\n",
    "    print(\"Index                   Title\")\n",
    "    idx = indices[title]\n",
    "    sim_scores = list(enumerate(sim_matrix[idx]))\n",
    "    sim_scores = sorted(sim_scores, key=lambda x: x[1], reverse=True)\n",
    "    sim_scores = sim_scores[1:11]\n",
    "    movie_indices = [i[0] for i in sim_scores]\n",
    "    return movie_data['title'].iloc[movie_indices]"
   ]
  },
  {
   "cell_type": "code",
   "execution_count": 7,
   "metadata": {},
   "outputs": [
    {
     "name": "stdout",
     "output_type": "stream",
     "text": [
      "Input movie:\n",
      "Star Wars\n",
      "Similar Movie Recommendation With Star Wars\n",
      "\n",
      "\n",
      "Index                   Title\n"
     ]
    },
    {
     "data": {
      "text/plain": [
       "1154      The Empire Strikes Back\n",
       "1167           Return of the Jedi\n",
       "1267                 Mad Dog Time\n",
       "5187          The Triumph of Love\n",
       "309             The Swan Princess\n",
       "461          Hot Shots! Part Deux\n",
       "19400             Deathstalker II\n",
       "3502                Shanghai Noon\n",
       "13735    The Flame of New Orleans\n",
       "1987              Sleeping Beauty\n",
       "Name: title, dtype: object"
      ]
     },
     "execution_count": 7,
     "metadata": {},
     "output_type": "execute_result"
    }
   ],
   "source": [
    "# Menampilkan output dari movie recommendation berdasarkan input judul\n",
    "# Di contoh ini kami akan menggunakan input judul yaitu \"Star Wars\"\n",
    "print(\"Input movie:\")\n",
    "movie_input = input()\n",
    "movie_recommender(movie_input)"
   ]
  }
 ],
 "metadata": {
  "kernelspec": {
   "display_name": "Python 3",
   "language": "python",
   "name": "python3"
  },
  "language_info": {
   "codemirror_mode": {
    "name": "ipython",
    "version": 3
   },
   "file_extension": ".py",
   "mimetype": "text/x-python",
   "name": "python",
   "nbconvert_exporter": "python",
   "pygments_lexer": "ipython3",
   "version": "3.8.3"
  }
 },
 "nbformat": 4,
 "nbformat_minor": 4
}
